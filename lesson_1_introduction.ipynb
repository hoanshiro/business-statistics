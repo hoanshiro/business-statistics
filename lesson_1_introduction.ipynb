{
 "cells": [
  {
   "cell_type": "markdown",
   "metadata": {},
   "source": [
    "# Course Overview\n",
    ">Statiscal Methods\n",
    "1. Descriptive Methods\n",
    "> * Graphs\n",
    "> * Numerical SUmmaries \n",
    "2. Inferential Methods\n",
    "> * Confidence Intervals\n",
    "> * Significance Tests"
   ]
  },
  {
   "cell_type": "markdown",
   "metadata": {},
   "source": [
    "## 1. Definitions\n",
    "1. **Statistics** involves collecting, orgainizing, analyzing, and interpreting data to make decisions. <br>\n",
    "Statistics is a way to get information from data.\n",
    "\n",
    "2. **Descriptive Statistics** is the process of orgainizing, summarizing, and presenting data in an informative way.\n",
    "<br> Ex: The average age of a student at this college is 22.5\n",
    "\n",
    "3. **Inferential Statistics** is the process of making a decision or prediction about population based on a sample of that population.\n",
    "<br> Ex: Based on a sample of 100 college students, the administration estimates the average age of all the students in the college to be 23.5\n",
    "\n",
    "4. Population vs Sample\n",
    "<br> **Population**: all the members of the group\n",
    "<br> **Sample**: some of the members of the same group\n",
    "\n",
    "5. **Variable** is a characteristic or value of interest such as age, gender, # of siblings, or # of credits taken in the current semester\n",
    "\n",
    "6. **Type of variables**\n",
    "> * Qualitative (nonnumeric) : gender\n",
    "> * Quantitative\n",
    "<br> - Discrete: children in a family\n",
    "<br> - Continuous: Weight of a student\n",
    "\n",
    "7. **4 Levels of Quantitative Measurement**\n",
    "> * Nominal level: data that is classified into categories and cannot be arranged in any particular order\n",
    "> * Ordinal level: data arranged in some order, but the differences between data values cannot be determined or are meaningless\n",
    "> <br> **Data are ranked** \n",
    "> * Interval level: similar to the ordinal level, with additional property that meaning ful amounts of differences between data values can be determined. \n",
    "> <br> There is no natural zero points\n",
    "> * Ratio level: the interval level with an inherent zero starting point.\n",
    "> <br> Differences and ratios are meaningfull for this level of measurement\n",
    "> <br> **Meaningfull 0 point**"
   ]
  },
  {
   "cell_type": "markdown",
   "metadata": {},
   "source": [
    "[Youtube Video](https://www.youtube.com/watch?v=-k0pZa201Ck&list=PL9JI2ABEWITM2Mq3PYSBlxZh0En4KkhBF&ab_channel=LutherMaddy)"
   ]
  }
 ],
 "metadata": {
  "language_info": {
   "name": "python"
  },
  "orig_nbformat": 4
 },
 "nbformat": 4,
 "nbformat_minor": 2
}
