{
 "cells": [
  {
   "cell_type": "markdown",
   "id": "aba7491a-8d04-4477-88d8-da2e4b4c9c7b",
   "metadata": {},
   "source": [
    "# Measures of Position\n",
    "- Methods of describing spread of data include determining the location of values that divide a set of observations into equals parts\n",
    "- These measures include quartiles, deciles, and percentiles"
   ]
  },
  {
   "cell_type": "code",
   "execution_count": 3,
   "id": "f4c330bb-d2bf-40de-b81c-a351265b20dd",
   "metadata": {},
   "outputs": [],
   "source": [
    "import numpy as np\n",
    "import pandas as pd"
   ]
  },
  {
   "cell_type": "code",
   "execution_count": 2,
   "id": "c9fb973c-5e25-4bf5-99d4-c241f2387642",
   "metadata": {},
   "outputs": [],
   "source": [
    "data_path = 'data/hotel_bookings.csv'\n",
    "df = pd.read_csv(data_path)"
   ]
  },
  {
   "cell_type": "code",
   "execution_count": 90,
   "id": "f3bf8e53-bf6e-427d-b1e5-1bb50c3df45c",
   "metadata": {},
   "outputs": [],
   "source": [
    "np.random.seed(42)\n",
    "adr_sample = df.sample(152).adr.values"
   ]
  },
  {
   "cell_type": "markdown",
   "id": "6a51f138-c92a-4408-aeb2-2320b4f06d9f",
   "metadata": {},
   "source": [
    "## 1. Percentile Computation\n",
    "- $L_p$ refers to the location of adesired percentile\n",
    "- $L_p = (n+1)\\frac{P}{100}$"
   ]
  },
  {
   "cell_type": "code",
   "execution_count": 91,
   "id": "a1dbfcd2-878d-4f79-88ec-57d0e4baa9ac",
   "metadata": {},
   "outputs": [],
   "source": [
    "# Step 1: Organize the data from lowest to largest value\n",
    "orderd_adr_sample = sorted(adr_sample)"
   ]
  },
  {
   "cell_type": "code",
   "execution_count": 92,
   "id": "c71a7e3e-a3a9-4caf-a700-fca0b15e24fd",
   "metadata": {},
   "outputs": [
    {
     "data": {
      "text/plain": [
       "(38.25, 114.75)"
      ]
     },
     "execution_count": 92,
     "metadata": {},
     "output_type": "execute_result"
    }
   ],
   "source": [
    "# Step 2: Computer the first and third quartiles.\n",
    "len_adr_sample = len(adr_sample)\n",
    "L_25 = (len_adr_sample + 1)*(25/100)\n",
    "L_75 = (len_adr_sample + 1) * (75/100)\n",
    "L_25, L_75 # Notice this is position (index), not value"
   ]
  },
  {
   "cell_type": "code",
   "execution_count": 115,
   "id": "2ea9bfb5-0b10-484c-813c-23afe90a852a",
   "metadata": {},
   "outputs": [
    {
     "data": {
      "text/plain": [
       "(68.34, 67.86)"
      ]
     },
     "execution_count": 115,
     "metadata": {},
     "output_type": "execute_result"
    }
   ],
   "source": [
    "base_index = int(L_25)\n",
    "V_25 = orderd_adr_sample[base_index] + (L_25%1)*(orderd_adr_sample[base_index+1]-orderd_adr_sample[base_index])\n",
    "V_25, np.percentile(orderd_adr_sample, 25)"
   ]
  },
  {
   "cell_type": "markdown",
   "id": "c7ad35d6-e36d-4fed-8287-a26e2b0afcda",
   "metadata": {},
   "source": [
    "# Skewness\n",
    "1. There are 4 shapes commonly observed:\n",
    "   - Symmetric\n",
    "   - Positively Skewed\n",
    "   - Negatively Skewed\n",
    "   - Bimodal\n",
    "2. The coefficient of skewness can range from -3 upto 3.\n",
    "   - A value near -3, indicates considerable negative skewness.\n",
    "   - A value such as 1.63 indicates moderate positive skewness\n",
    "   - A value of 0, occur when the mean and median are equal => the distribution is symmetrical\n",
    "3. Pearson's coefficient of skewness\n",
    "   - $sk = \\frac{3(\\bar{X}-Median)}{std}$"
   ]
  },
  {
   "cell_type": "code",
   "execution_count": 99,
   "id": "9290a629-8bec-4741-9688-c3449c01c13b",
   "metadata": {},
   "outputs": [],
   "source": [
    "import matplotlib.pyplot as plt\n",
    "from scipy import stats\n",
    "import seaborn as sns"
   ]
  },
  {
   "cell_type": "code",
   "execution_count": 100,
   "id": "efe3f81e-50bd-42a2-b8be-fe92e16b2399",
   "metadata": {},
   "outputs": [
    {
     "data": {
      "image/png": "[encoded data removed]",
      "text/plain": [
       "<Figure size 1000x600 with 1 Axes>"
      ]
     },
     "metadata": {},
     "output_type": "display_data"
    }
   ],
   "source": [
    "plt.figure(figsize=(10, 6))\n",
    "sns.histplot(adr_sample, bins=8)\n",
    "plt.show()"
   ]
  },
  {
   "cell_type": "code",
   "execution_count": 110,
   "id": "da62146a-6c2f-468b-8323-e9aef31ced61",
   "metadata": {},
   "outputs": [
    {
     "data": {
      "text/plain": [
       "0.5361794647446517"
      ]
     },
     "execution_count": 110,
     "metadata": {},
     "output_type": "execute_result"
    }
   ],
   "source": [
    "skewness = 3*(np.mean(adr_sample)-np.median(adr_sample))/np.std(adr_sample)\n",
    "skewness"
   ]
  },
  {
   "cell_type": "code",
   "execution_count": 116,
   "id": "60804486-b8b3-4e7e-992e-18262c4d812e",
   "metadata": {},
   "outputs": [
    {
     "data": {
      "text/plain": [
       "0.6958453198919285"
      ]
     },
     "execution_count": 116,
     "metadata": {},
     "output_type": "execute_result"
    }
   ],
   "source": [
    "stats.skew(adr_sample) # different calculation"
   ]
  },
  {
   "cell_type": "code",
   "execution_count": null,
   "id": "0c468121-553d-4677-a567-77aa11303816",
   "metadata": {},
   "outputs": [],
   "source": []
  }
 ],
 "metadata": {
  "kernelspec": {
   "display_name": "Python 3 (ipykernel)",
   "language": "python",
   "name": "python3"
  },
  "language_info": {
   "codemirror_mode": {
    "name": "ipython",
    "version": 3
   },
   "file_extension": ".py",
   "mimetype": "text/x-python",
   "name": "python",
   "nbconvert_exporter": "python",
   "pygments_lexer": "ipython3",
   "version": "3.8.17"
  }
 },
 "nbformat": 4,
 "nbformat_minor": 5
}
