{
 "cells": [
  {
   "cell_type": "markdown",
   "id": "7fdeff9f-8ddb-453f-bfe8-32f740181d69",
   "metadata": {},
   "source": [
    "# Probability\n",
    "- Probability is a value between zero and one, inclusive\n",
    "- describing the relative possibility (chance or likelihood) an event will occur"
   ]
  },
  {
   "cell_type": "markdown",
   "id": "bab4fd57-7229-4c40-92bf-13b8d6f1d467",
   "metadata": {},
   "source": [
    "1. An **experiments** is a process that leads to the occurrence of one, and only one, of several possible observations\n",
    "2. An **outcome** is the particular result of an experiment\n",
    "3. An **event** is the collection of one or more outcomes of an experiment"
   ]
  },
  {
   "cell_type": "markdown",
   "id": "137cda8b-8a25-4373-a7d9-373b946346da",
   "metadata": {},
   "source": [
    "## Classical Probability\n",
    "1. Classical Probability\n",
    "   - Based on the assuption that the outcomes of an experiment are equally likely\n",
    "   - Probability of an event = Number of favorable outcomes / Total number of possible outcomes\n",
    "   - ex: rolling a die => Probability of getting an even number is 3/6 = 1/2\n",
    "2. Mutually Exclusive\n",
    "   - if the occurrence of any one event means that none of the others can occur at the same time\n",
    "   - ex: can't get both a head and tail on one coin toss\n",
    "3. Independent Events\n",
    "   - if the occurrence of one event does not affect the occurence of another\n",
    "   - ex: toss coin 2 time\n",
    "4. Collectively Exhaustive Events\n",
    "   - if at leaset one of the events must occur when an experiment is conducted\n",
    "   - ex: in a horse race, there will be one winner"
   ]
  },
  {
   "cell_type": "markdown",
   "id": "b0834259-4945-4584-849c-319f181673e7",
   "metadata": {},
   "source": [
    "## Empirical Probability\n",
    "1. Empirical Probability\n",
    "   - the probability of an event happening is the fractionof the time similar events happend in the past\n",
    "   - The empirical approach to probability is based on what is called the Law of Large Numbers\n",
    "2. Law of Large Numbers\n",
    "   - Over a large number of trails the empirical probability of an event will approach its true probability"
   ]
  },
  {
   "cell_type": "markdown",
   "id": "36ea3b2d-d177-4887-ac66-b294b7aaee2c",
   "metadata": {},
   "source": [
    "# Counting"
   ]
  },
  {
   "cell_type": "code",
   "execution_count": 1,
   "id": "b0304557-316e-4c46-b10c-1de88f2128f2",
   "metadata": {},
   "outputs": [],
   "source": [
    "import pandas as pd"
   ]
  },
  {
   "cell_type": "code",
   "execution_count": 2,
   "id": "a85a162d-a0f4-4cdb-8900-1e6410870d98",
   "metadata": {},
   "outputs": [
    {
     "data": {
      "text/html": [
       "<div>\n",
       "<style scoped>\n",
       "    .dataframe tbody tr th:only-of-type {\n",
       "        vertical-align: middle;\n",
       "    }\n",
       "\n",
       "    .dataframe tbody tr th {\n",
       "        vertical-align: top;\n",
       "    }\n",
       "\n",
       "    .dataframe thead th {\n",
       "        text-align: right;\n",
       "    }\n",
       "</style>\n",
       "<table border=\"1\" class=\"dataframe\">\n",
       "  <thead>\n",
       "    <tr style=\"text-align: right;\">\n",
       "      <th></th>\n",
       "      <th>hotel</th>\n",
       "      <th>is_canceled</th>\n",
       "      <th>lead_time</th>\n",
       "      <th>arrival_date_year</th>\n",
       "      <th>arrival_date_month</th>\n",
       "      <th>arrival_date_week_number</th>\n",
       "      <th>arrival_date_day_of_month</th>\n",
       "      <th>stays_in_weekend_nights</th>\n",
       "      <th>stays_in_week_nights</th>\n",
       "      <th>adults</th>\n",
       "      <th>...</th>\n",
       "      <th>deposit_type</th>\n",
       "      <th>agent</th>\n",
       "      <th>company</th>\n",
       "      <th>days_in_waiting_list</th>\n",
       "      <th>customer_type</th>\n",
       "      <th>adr</th>\n",
       "      <th>required_car_parking_spaces</th>\n",
       "      <th>total_of_special_requests</th>\n",
       "      <th>reservation_status</th>\n",
       "      <th>reservation_status_date</th>\n",
       "    </tr>\n",
       "  </thead>\n",
       "  <tbody>\n",
       "    <tr>\n",
       "      <th>101344</th>\n",
       "      <td>City Hotel</td>\n",
       "      <td>0</td>\n",
       "      <td>35</td>\n",
       "      <td>2016</td>\n",
       "      <td>November</td>\n",
       "      <td>46</td>\n",
       "      <td>7</td>\n",
       "      <td>1</td>\n",
       "      <td>3</td>\n",
       "      <td>1</td>\n",
       "      <td>...</td>\n",
       "      <td>No Deposit</td>\n",
       "      <td>9.0</td>\n",
       "      <td>NaN</td>\n",
       "      <td>0</td>\n",
       "      <td>Transient</td>\n",
       "      <td>174.25</td>\n",
       "      <td>0</td>\n",
       "      <td>1</td>\n",
       "      <td>Check-Out</td>\n",
       "      <td>2016-11-11</td>\n",
       "    </tr>\n",
       "    <tr>\n",
       "      <th>94698</th>\n",
       "      <td>City Hotel</td>\n",
       "      <td>0</td>\n",
       "      <td>2</td>\n",
       "      <td>2016</td>\n",
       "      <td>August</td>\n",
       "      <td>33</td>\n",
       "      <td>7</td>\n",
       "      <td>1</td>\n",
       "      <td>0</td>\n",
       "      <td>2</td>\n",
       "      <td>...</td>\n",
       "      <td>No Deposit</td>\n",
       "      <td>9.0</td>\n",
       "      <td>NaN</td>\n",
       "      <td>0</td>\n",
       "      <td>Transient</td>\n",
       "      <td>98.00</td>\n",
       "      <td>0</td>\n",
       "      <td>2</td>\n",
       "      <td>Check-Out</td>\n",
       "      <td>2016-08-08</td>\n",
       "    </tr>\n",
       "    <tr>\n",
       "      <th>54277</th>\n",
       "      <td>City Hotel</td>\n",
       "      <td>1</td>\n",
       "      <td>75</td>\n",
       "      <td>2016</td>\n",
       "      <td>July</td>\n",
       "      <td>29</td>\n",
       "      <td>11</td>\n",
       "      <td>1</td>\n",
       "      <td>1</td>\n",
       "      <td>1</td>\n",
       "      <td>...</td>\n",
       "      <td>No Deposit</td>\n",
       "      <td>9.0</td>\n",
       "      <td>NaN</td>\n",
       "      <td>0</td>\n",
       "      <td>Transient</td>\n",
       "      <td>123.30</td>\n",
       "      <td>0</td>\n",
       "      <td>0</td>\n",
       "      <td>Canceled</td>\n",
       "      <td>2016-05-09</td>\n",
       "    </tr>\n",
       "  </tbody>\n",
       "</table>\n",
       "<p>3 rows × 32 columns</p>\n",
       "</div>"
      ],
      "text/plain": [
       "             hotel  is_canceled  lead_time  arrival_date_year  \\\n",
       "101344  City Hotel            0         35               2016   \n",
       "94698   City Hotel            0          2               2016   \n",
       "54277   City Hotel            1         75               2016   \n",
       "\n",
       "       arrival_date_month  arrival_date_week_number  \\\n",
       "101344           November                        46   \n",
       "94698              August                        33   \n",
       "54277                July                        29   \n",
       "\n",
       "        arrival_date_day_of_month  stays_in_weekend_nights  \\\n",
       "101344                          7                        1   \n",
       "94698                           7                        1   \n",
       "54277                          11                        1   \n",
       "\n",
       "        stays_in_week_nights  adults  ...  deposit_type  agent company  \\\n",
       "101344                     3       1  ...    No Deposit    9.0     NaN   \n",
       "94698                      0       2  ...    No Deposit    9.0     NaN   \n",
       "54277                      1       1  ...    No Deposit    9.0     NaN   \n",
       "\n",
       "       days_in_waiting_list customer_type     adr  \\\n",
       "101344                    0     Transient  174.25   \n",
       "94698                     0     Transient   98.00   \n",
       "54277                     0     Transient  123.30   \n",
       "\n",
       "        required_car_parking_spaces  total_of_special_requests  \\\n",
       "101344                            0                          1   \n",
       "94698                             0                          2   \n",
       "54277                             0                          0   \n",
       "\n",
       "        reservation_status reservation_status_date  \n",
       "101344           Check-Out              2016-11-11  \n",
       "94698            Check-Out              2016-08-08  \n",
       "54277             Canceled              2016-05-09  \n",
       "\n",
       "[3 rows x 32 columns]"
      ]
     },
     "execution_count": 2,
     "metadata": {},
     "output_type": "execute_result"
    }
   ],
   "source": [
    "data_path = 'data/hotel_bookings.csv'\n",
    "df = pd.read_csv(data_path)\n",
    "df.sample(3)"
   ]
  },
  {
   "cell_type": "markdown",
   "id": "9db36c87-6cae-435f-91b8-6a4ec458fe4a",
   "metadata": {},
   "source": [
    "## Rule of Addition\n",
    "1. If two events A and B are mutually exclusive, the probability of one or the other event's occuring equals the sum of their probabilities.\n",
    "    - $P(A \\cup B) = P(A) + P(B)$\n",
    "2. The General Rule of Addition\n",
    "    - If A & B are two events that are not mutually exclusive, then\n",
    "    - $P(A\\cup B) = P(A) + P(B) - P (A \\cap B)$"
   ]
  },
  {
   "cell_type": "code",
   "execution_count": 5,
   "id": "6100b8f2-252f-44e7-9461-c859ae41b31f",
   "metadata": {},
   "outputs": [
    {
     "data": {
      "text/plain": [
       "reservation_status\n",
       "Check-Out    75166\n",
       "Canceled     43017\n",
       "No-Show       1207\n",
       "Name: count, dtype: int64"
      ]
     },
     "execution_count": 5,
     "metadata": {},
     "output_type": "execute_result"
    }
   ],
   "source": [
    "reservation_fdt = df.reservation_status.value_counts()\n",
    "reservation_fdt"
   ]
  },
  {
   "cell_type": "code",
   "execution_count": 11,
   "id": "a7f61713-3655-4536-9783-6fee5b0f1caf",
   "metadata": {},
   "outputs": [],
   "source": [
    "len_df = len(df)"
   ]
  },
  {
   "cell_type": "code",
   "execution_count": 12,
   "id": "dc8629f4-2a7d-44fa-875a-27baab599e82",
   "metadata": {},
   "outputs": [
    {
     "data": {
      "text/plain": [
       "(0.6295837172292487, 0.3603065583382193)"
      ]
     },
     "execution_count": 12,
     "metadata": {},
     "output_type": "execute_result"
    }
   ],
   "source": [
    "P_checkout = reservation_fdt['Check-Out']/len_df\n",
    "P_canceled = reservation_fdt['Canceled']/len_df\n",
    "P_checkout, P_canceled"
   ]
  },
  {
   "cell_type": "code",
   "execution_count": 13,
   "id": "4f3c9aa0-65bb-4873-b896-1540bc41870c",
   "metadata": {},
   "outputs": [
    {
     "data": {
      "text/plain": [
       "(0.9898902755674679, 0.9999999999999999)"
      ]
     },
     "execution_count": 13,
     "metadata": {},
     "output_type": "execute_result"
    }
   ],
   "source": [
    "P_show = P_checkout + P_canceled\n",
    "P_noshow = reservation_fdt['No-Show']/len_df\n",
    "P_show, P_show+P_noshow"
   ]
  },
  {
   "cell_type": "markdown",
   "id": "76422687-764d-4c38-95a1-6f5af008dd6e",
   "metadata": {},
   "source": [
    "## Rule of Multiplication\n",
    "1. If two events A & B are independent if the occurence of one has no effect on the probability of the occurence of the other\n",
    "   - $P(A \\cap B) = P(A)P(B)$\n",
    "2. Conditional Probability\n",
    "   - is the probability of a particular event occurring, given that another event has occurred\n",
    "   - The probability of the event A occurring given that the event B has occured is written: $P(A|B)$\n",
    "3. Join Probability\n",
    "   - is used to find the joint probability that two not independent events will occur\n",
    "   - $P(A \\cap B) = P(A)P(B|A)$"
   ]
  },
  {
   "cell_type": "code",
   "execution_count": 10,
   "id": "361fdc10-f9ae-4bc5-a53c-2fd9ff242c49",
   "metadata": {},
   "outputs": [
    {
     "data": {
      "text/plain": [
       "hotel\n",
       "City Hotel      79330\n",
       "Resort Hotel    40060\n",
       "Name: count, dtype: int64"
      ]
     },
     "execution_count": 10,
     "metadata": {},
     "output_type": "execute_result"
    }
   ],
   "source": [
    "hotel_fdt = df.hotel.value_counts()\n",
    "hotel_fdt"
   ]
  },
  {
   "cell_type": "code",
   "execution_count": 19,
   "id": "2e03ed1e-3895-44c3-87b1-5daef286a0fe",
   "metadata": {},
   "outputs": [
    {
     "data": {
      "text/plain": [
       "0.387201608174889"
      ]
     },
     "execution_count": 19,
     "metadata": {},
     "output_type": "execute_result"
    }
   ],
   "source": [
    "P_checkout_and_in_city = len(df[(df.hotel=='City Hotel') & (df.reservation_status == 'Check-Out')])/len_df\n",
    "P_checkout_and_in_city"
   ]
  },
  {
   "cell_type": "code",
   "execution_count": 22,
   "id": "4935e833-8bd5-44b2-b6ec-e34c32736f3c",
   "metadata": {},
   "outputs": [
    {
     "data": {
      "text/plain": [
       "0.6644610101348521"
      ]
     },
     "execution_count": 22,
     "metadata": {},
     "output_type": "execute_result"
    }
   ],
   "source": [
    "# Probability of customer checkout if they in City Hotel\n",
    "P_in_city_hotel = hotel_fdt['City Hotel']/len_df\n",
    "P_in_city_hotel"
   ]
  },
  {
   "cell_type": "code",
   "execution_count": 23,
   "id": "28b76be1-efe6-41c3-aa5b-6f5bda7ce4f9",
   "metadata": {},
   "outputs": [
    {
     "data": {
      "text/plain": [
       "0.5827303668221354"
      ]
     },
     "execution_count": 23,
     "metadata": {},
     "output_type": "execute_result"
    }
   ],
   "source": [
    "P_checkout_ifin_city = P_checkout_and_in_city/P_in_city_hotel\n",
    "P_checkout_ifin_city"
   ]
  },
  {
   "cell_type": "code",
   "execution_count": null,
   "id": "bc78a290-7aaa-491b-baf7-01623ad079e9",
   "metadata": {},
   "outputs": [],
   "source": []
  }
 ],
 "metadata": {
  "kernelspec": {
   "display_name": "Python 3 (ipykernel)",
   "language": "python",
   "name": "python3"
  },
  "language_info": {
   "codemirror_mode": {
    "name": "ipython",
    "version": 3
   },
   "file_extension": ".py",
   "mimetype": "text/x-python",
   "name": "python",
   "nbconvert_exporter": "python",
   "pygments_lexer": "ipython3",
   "version": "3.8.17"
  }
 },
 "nbformat": 4,
 "nbformat_minor": 5
}
